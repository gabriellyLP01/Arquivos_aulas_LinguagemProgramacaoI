{
  "nbformat": 4,
  "nbformat_minor": 0,
  "metadata": {
    "colab": {
      "provenance": [],
      "toc_visible": true,
      "authorship_tag": "ABX9TyMwfvnspGpYsVCtGga56Z3L",
      "include_colab_link": true
    },
    "kernelspec": {
      "name": "python3",
      "display_name": "Python 3"
    },
    "language_info": {
      "name": "python"
    }
  },
  "cells": [
    {
      "cell_type": "markdown",
      "metadata": {
        "id": "view-in-github",
        "colab_type": "text"
      },
      "source": [
        "<a href=\"https://colab.research.google.com/github/gabriellyLP01/Arquivos_aulas_LinguagemProgramacaoI/blob/main/Aula_2.ipynb\" target=\"_parent\"><img src=\"https://colab.research.google.com/assets/colab-badge.svg\" alt=\"Open In Colab\"/></a>"
      ]
    },
    {
      "cell_type": "markdown",
      "source": [
        "##Exercício 5 - Mais Variáveis e Impressão#\n",
        "Concatenação de variáveis mais texto, uma forma de usar a saída de dados com variáveis;"
      ],
      "metadata": {
        "id": "_vzIHpRpAMGQ"
      }
    },
    {
      "cell_type": "code",
      "execution_count": null,
      "metadata": {
        "colab": {
          "base_uri": "https://localhost:8080/"
        },
        "id": "_AKWfoJzW2sk",
        "outputId": "1bbc3a67-4bfe-4b36-8094-32b76c2e3280"
      },
      "outputs": [
        {
          "output_type": "stream",
          "name": "stdout",
          "text": [
            "Let's talk about Zed A. Shaw.\n",
            "He's 74 inches tall.\n",
            "He's 180 pounds heavy.\n",
            "Actually that's not too heavy.\n",
            "He's got blue eyes and brown hair.\n",
            "His teeth are usually white depending on the coffee.\n",
            "If I add 35, 74 and my 180 I get 289.\n"
          ]
        }
      ],
      "source": [
        "Name = 'Zed A. Shaw'\n",
        "age = 35 #não é mentira\n",
        "heigth = 74 #polegadas\n",
        "weigth = 180 #libras\n",
        "eyes = 'blue'\n",
        "teeth = 'white'\n",
        "hair = 'brown'\n",
        "\n",
        "print(f\"Let's talk about {Name}.\")\n",
        "print(f\"He's {heigth} inches tall.\")\n",
        "print(f\"He's {weigth} pounds heavy.\")\n",
        "print(f\"Actually that's not too heavy.\")\n",
        "print(f\"He's got {eyes} eyes and {hair} hair.\")\n",
        "print(f\"His teeth are usually {teeth} depending on the coffee.\")\n",
        "\n",
        "#Essa linha é capciosa, tente escrever exatamente como essa\n",
        "total = Age + heigth + weigth\n",
        "print(f\"If I add {age}, {heigth} and my {weigth} I get {total}.\")"
      ]
    },
    {
      "cell_type": "markdown",
      "source": [
        "##Exercício 6 - Strings e texto ##\n",
        "Algumas variáveis, um pouco, complexas e um pouco de trabalho com strings dentro de strings;"
      ],
      "metadata": {
        "id": "Aw5qGINhEStq"
      }
    },
    {
      "cell_type": "code",
      "source": [
        "#Atribuição de inteiro em variável\n",
        "type_of_people = 10\n",
        "#Atribuição de string com variável embutida\n",
        "x = f\"There are {type_of_people} type of people.\"\n",
        "#Atribuição de valor textual a uma variável\n",
        "binary = \"binary\"\n",
        "#Atribuição de valor textual a uma variável\n",
        "do_not = \"don't\"\n",
        "#Atribuição de string com variável embutida\n",
        "y = f\"Those who know {binary} and those who {do_not}.\"\n",
        "\n",
        "print(x) #Imprime o valor da variável\n",
        "print(y) #Imprime o valor da variável\n",
        "\n",
        "print(f\"I said: {x}.\") #Imprime um texto com uma variável embutida\n",
        "print(f\"I also said: '{y}'\") #Imprime um texto com uma variável embutida\n",
        "\n",
        "hilarious = False #Criação de variável com valor booleano\n",
        "joke_evaluetion = \"Isn't that joke so funny?! {}\" ##Criação de variável com texto e espaço para embutiruma variável sem defini-lá\n",
        "\n",
        "print(joke_evaluetion.format(hilarious)) #Uma forma de imprimir a variável textual com uma variável embutida, que eu posso escolher\n",
        "\n",
        "w = \"This is left side of...\" #Criação de variável com valor textual\n",
        "e = \"A string with a right side.\" #Criação de variável com valor textual\n",
        "print(w + e) #Concatena os valores textuais armazenado nas variáveis"
      ],
      "metadata": {
        "colab": {
          "base_uri": "https://localhost:8080/"
        },
        "id": "x3-mYh8AEw9V",
        "outputId": "eac2604e-478c-4ec8-fb5d-5819fb4d3c40"
      },
      "execution_count": null,
      "outputs": [
        {
          "output_type": "stream",
          "name": "stdout",
          "text": [
            "There are 10 type of people.\n",
            "Those who know binary and those who don't.\n",
            "I said: There are 10 type of people..\n",
            "I also said: 'Those who know binary and those who don't.'\n",
            "Isn't that joke so funny?! False\n",
            "This is left side of...A string with a right side.\n"
          ]
        }
      ]
    },
    {
      "cell_type": "markdown",
      "source": [
        "##Exercício 7 - Mais impressão##\n",
        "Apenas para práticas a digitação e alguns conceitos sobre impressão de strings"
      ],
      "metadata": {
        "id": "8vLVXS-6Kjnb"
      }
    },
    {
      "cell_type": "code",
      "source": [
        "print(\"Mary had a little lamb.\") #Imprime um texto fixo\n",
        "print(\"It's fleece was white as {}.\".format('snow')) #Imprime um texto com espaço para mudar algo\n",
        "print(\"And everywhere that Mary went.\") #Imprime um texto fixo\n",
        "print(\".\"*10) #What'd that do? imprime o ponto 10 vezes\n",
        "\n",
        "end1 = \"C\" #Armazena dados textuais em variáveis\n",
        "end2 = \"h\"\n",
        "end3 = \"e\"\n",
        "end4 = \"e\"\n",
        "end5 = \"s\"\n",
        "end6 = \"e\"\n",
        "end7 = \"B\"\n",
        "end8 = \"u\"\n",
        "end9 = \"r\"\n",
        "end10 = \"g\"\n",
        "end11 = \"e\"\n",
        "end12 = \"r\"\n",
        "\n",
        "#Olhe aquela vírgula no fim.Tente removê-la para ver o que acontece\n",
        "print(end1 + end2 + end3 + end4 + end5 + end6, end='') #Concatena os valores das variáveis e o final permite que\n",
        "print(end7 + end8 + end9 + end10 + end11 + end12) #Imprime sem quebra de linha"
      ],
      "metadata": {
        "colab": {
          "base_uri": "https://localhost:8080/"
        },
        "id": "gqkgYlVjK4rW",
        "outputId": "2539b627-ad42-4ba3-b553-4ba924799762"
      },
      "execution_count": null,
      "outputs": [
        {
          "output_type": "stream",
          "name": "stdout",
          "text": [
            "Mary had a little lamb.\n",
            "It's fleece was white as snow.\n",
            "And everywhere that Mary went.\n",
            "..........\n",
            "CheeseBurger\n"
          ]
        }
      ]
    },
    {
      "cell_type": "markdown",
      "source": [
        "##Exercício 8 - Imprimindo, imprimindo##\n",
        "Formatação de strings de forma mais complexas"
      ],
      "metadata": {
        "id": "_IiSAlK3N2q3"
      }
    },
    {
      "cell_type": "code",
      "source": [
        "formatter = \"{} {} {} {}\"\n",
        "\n",
        "print(formatter.format(1, 2, 3, 4))\n",
        "print(formatter.format(\"one\", \"two\", \"three\", \"four\"))\n",
        "print(formatter.format(True, False, True, False))\n",
        "print(formatter.format(formatter, formatter, formatter, formatter))\n",
        "print(formatter.format(\n",
        "    \"Try you\",\n",
        "    \"Own text here\",\n",
        "    \"Maybe a poem\",\n",
        "    \"Or a song about fear\"\n",
        "))"
      ],
      "metadata": {
        "colab": {
          "base_uri": "https://localhost:8080/"
        },
        "id": "fnf97ycCOGBe",
        "outputId": "7503e70c-4b9a-45d0-a697-b5a4cc25d280"
      },
      "execution_count": null,
      "outputs": [
        {
          "output_type": "stream",
          "name": "stdout",
          "text": [
            "1 2 3 4\n",
            "one two three four\n",
            "True False True False\n",
            "{} {} {} {} {} {} {} {} {} {} {} {} {} {} {} {}\n",
            "Try you Own text here Maybe a poem Or a song about fear\n"
          ]
        }
      ]
    }
  ]
}