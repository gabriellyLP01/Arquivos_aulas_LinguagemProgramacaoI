{
  "nbformat": 4,
  "nbformat_minor": 0,
  "metadata": {
    "colab": {
      "provenance": [],
      "authorship_tag": "ABX9TyOyl9GxAa1bObfjvD7Nftju",
      "include_colab_link": true
    },
    "kernelspec": {
      "name": "python3",
      "display_name": "Python 3"
    },
    "language_info": {
      "name": "python"
    }
  },
  "cells": [
    {
      "cell_type": "markdown",
      "metadata": {
        "id": "view-in-github",
        "colab_type": "text"
      },
      "source": [
        "<a href=\"https://colab.research.google.com/github/gabriellyLP01/Arquivos_aulas_LinguagemProgramacaoI/blob/main/Aula_04.ipynb\" target=\"_parent\"><img src=\"https://colab.research.google.com/assets/colab-badge.svg\" alt=\"Open In Colab\"/></a>"
      ]
    },
    {
      "cell_type": "markdown",
      "source": [
        "#Aula 4- Fundamentos de linguagem python\n",
        "\n",
        "\n",
        "*   Laços de repetição\n",
        "*   Listas\n",
        "*   Funções\n"
      ],
      "metadata": {
        "id": "wDsw4uCF-cgv"
      }
    },
    {
      "cell_type": "markdown",
      "source": [
        "##EXERCÍCIO 16 - Loops e listas"
      ],
      "metadata": {
        "id": "GWRJf1_SHSxj"
      }
    },
    {
      "cell_type": "code",
      "source": [
        "the_count = [1,2,3,4,5]\n",
        "fruits = ['apples', 'oranges', 'pears', 'apricots']\n",
        "change = [1, 'pennies', 2, 'dimes', 3, 'quarters']\n",
        "\n",
        "for number in the_count:\n",
        "  print(f\"This is count {number}\")\n",
        "\n",
        "for fruit in fruits:\n",
        "  print(f\"A fruit of type: {fruit}\")\n",
        "\n",
        "for i in change:\n",
        "  print(f\"I got {i}\")\n",
        "\n",
        "elements = []\n",
        "\n",
        "for i in range(0,6):\n",
        "  print(f\"Adding {i} to the list.\")\n",
        "\n",
        "elements.append(i)\n",
        "\n",
        "for i in elements:\n",
        "  print(f\"Element was: {i}\")"
      ],
      "metadata": {
        "colab": {
          "base_uri": "https://localhost:8080/"
        },
        "id": "Na9RwYk5HX72",
        "outputId": "e3077ca6-edfb-4dae-d0a2-8ec90dda267f"
      },
      "execution_count": null,
      "outputs": [
        {
          "output_type": "stream",
          "name": "stdout",
          "text": [
            "This is count 1\n",
            "This is count 2\n",
            "This is count 3\n",
            "This is count 4\n",
            "This is count 5\n",
            "A fruit of type: apples\n",
            "A fruit of type: oranges\n",
            "A fruit of type: pears\n",
            "A fruit of type: apricots\n",
            "I got 1\n",
            "I got pennies\n",
            "I got 2\n",
            "I got dimes\n",
            "I got 3\n",
            "I got quarters\n",
            "Adding 0 to the list.\n",
            "Adding 1 to the list.\n",
            "Adding 2 to the list.\n",
            "Adding 3 to the list.\n",
            "Adding 4 to the list.\n",
            "Adding 5 to the list.\n",
            "Element was: 5\n"
          ]
        }
      ]
    },
    {
      "cell_type": "markdown",
      "source": [
        "##EXERCÍCIO 17 -Loops while"
      ],
      "metadata": {
        "id": "tdn4opH9JHZO"
      }
    },
    {
      "cell_type": "code",
      "source": [
        "i = 0\n",
        "numbers = []\n",
        "\n",
        "while i < 6:\n",
        "  print(f\"At the top is {i}\")\n",
        "  numbers.append\n",
        "\n",
        "  i = i +1\n",
        "  print(\"Numbers now: \", numbers)\n",
        "  print(f\"At the bottom i is {i}\")\n",
        "\n",
        "  print(\"The numbers: \")\n",
        "  for num in numbers:\n",
        "    print(num)"
      ],
      "metadata": {
        "colab": {
          "base_uri": "https://localhost:8080/"
        },
        "id": "7I5FUHpjJR30",
        "outputId": "3b51043d-9a2f-4d83-9e97-22fbbadd99ed"
      },
      "execution_count": null,
      "outputs": [
        {
          "output_type": "stream",
          "name": "stdout",
          "text": [
            "At the top is 0\n",
            "Numbers now:  []\n",
            "At the bottom i is 1\n",
            "The numbers: \n",
            "At the top is 1\n",
            "Numbers now:  []\n",
            "At the bottom i is 2\n",
            "The numbers: \n",
            "At the top is 2\n",
            "Numbers now:  []\n",
            "At the bottom i is 3\n",
            "The numbers: \n",
            "At the top is 3\n",
            "Numbers now:  []\n",
            "At the bottom i is 4\n",
            "The numbers: \n",
            "At the top is 4\n",
            "Numbers now:  []\n",
            "At the bottom i is 5\n",
            "The numbers: \n",
            "At the top is 5\n",
            "Numbers now:  []\n",
            "At the bottom i is 6\n",
            "The numbers: \n"
          ]
        }
      ]
    },
    {
      "cell_type": "markdown",
      "source": [
        "##EXERCÍCIO 18 - Nomes, variáveis, códigos, funções"
      ],
      "metadata": {
        "id": "OkbdsgvyKK3V"
      }
    },
    {
      "cell_type": "code",
      "source": [
        "def print_two(*args):\n",
        "  arg1, arg2 = args\n",
        "  print(f\"args1: {arg1}, args2: {arg2}\")\n",
        "\n",
        "def print_two_again(arg1, arg2):\n",
        "  print(f\"args1: {arg1}, args2: {arg2}\")\n",
        "\n",
        "def print_one(arg1):\n",
        "  print(f\"arg1: {arg1}\")\n",
        "\n",
        "  def print_none():\n",
        "    print(\"I got \")"
      ],
      "metadata": {
        "id": "xqPsb0_SKKLN"
      },
      "execution_count": null,
      "outputs": []
    },
    {
      "cell_type": "markdown",
      "source": [
        "##EXERCÍCIO 21 - Parâmetros, descompactação e variáveis"
      ],
      "metadata": {
        "id": "gWg0utIa-mxz"
      }
    },
    {
      "cell_type": "code",
      "source": [
        "#Só funciona no vs code\n",
        "from sys import argv\n",
        "script, first, second, third = argv\n",
        "\n",
        "print(\"The script is called:\", script)\n",
        "print(\"Your first variable is:\", first)\n",
        "print(\"Your second variable is:\", second)\n",
        "print(\"Your third variable is:\", third)"
      ],
      "metadata": {
        "colab": {
          "base_uri": "https://localhost:8080/",
          "height": 211
        },
        "collapsed": true,
        "id": "Do3n3ZUb_B3T",
        "outputId": "059767d3-bbc6-47e0-e400-0d8d63d99d36"
      },
      "execution_count": null,
      "outputs": [
        {
          "output_type": "error",
          "ename": "ValueError",
          "evalue": "not enough values to unpack (expected 4, got 3)",
          "traceback": [
            "\u001b[0;31m---------------------------------------------------------------------------\u001b[0m",
            "\u001b[0;31mValueError\u001b[0m                                Traceback (most recent call last)",
            "\u001b[0;32m<ipython-input-7-ab19ec0e9c82>\u001b[0m in \u001b[0;36m<cell line: 0>\u001b[0;34m()\u001b[0m\n\u001b[1;32m      1\u001b[0m \u001b[0;32mfrom\u001b[0m \u001b[0msys\u001b[0m \u001b[0;32mimport\u001b[0m \u001b[0margv\u001b[0m\u001b[0;34m\u001b[0m\u001b[0;34m\u001b[0m\u001b[0m\n\u001b[0;32m----> 2\u001b[0;31m \u001b[0mscript\u001b[0m\u001b[0;34m,\u001b[0m \u001b[0mfirst\u001b[0m\u001b[0;34m,\u001b[0m \u001b[0msecond\u001b[0m\u001b[0;34m,\u001b[0m \u001b[0mthird\u001b[0m \u001b[0;34m=\u001b[0m \u001b[0margv\u001b[0m\u001b[0;34m\u001b[0m\u001b[0;34m\u001b[0m\u001b[0m\n\u001b[0m\u001b[1;32m      3\u001b[0m \u001b[0;34m\u001b[0m\u001b[0m\n\u001b[1;32m      4\u001b[0m \u001b[0mprint\u001b[0m\u001b[0;34m(\u001b[0m\u001b[0;34m\"The script is called:\"\u001b[0m\u001b[0;34m,\u001b[0m \u001b[0mscript\u001b[0m\u001b[0;34m)\u001b[0m\u001b[0;34m\u001b[0m\u001b[0;34m\u001b[0m\u001b[0m\n\u001b[1;32m      5\u001b[0m \u001b[0mprint\u001b[0m\u001b[0;34m(\u001b[0m\u001b[0;34m\"Your first variable is:\"\u001b[0m\u001b[0;34m,\u001b[0m \u001b[0mfirst\u001b[0m\u001b[0;34m)\u001b[0m\u001b[0;34m\u001b[0m\u001b[0;34m\u001b[0m\u001b[0m\n",
            "\u001b[0;31mValueError\u001b[0m: not enough values to unpack (expected 4, got 3)"
          ]
        }
      ]
    },
    {
      "cell_type": "markdown",
      "source": [
        "##EXERCÍCIO 22 - Parâmetros, descompactação e variáveis"
      ],
      "metadata": {
        "id": "rF1Zk4M2C7Mq"
      }
    },
    {
      "cell_type": "code",
      "source": [
        "#Só funciona no vs code, vai pro terminal e digitar e dar enter\n",
        "from sys import argv\n",
        "\n",
        "script, user_name = argv\n",
        "prompt = '> '\n",
        "\n",
        "print(f\"Hi {user_name}, I'm the {script} script.\")\n",
        "print(\"I'd like to ask you a few questions.\")\n",
        "print(f\"Do you like me {user_name}?\")\n",
        "likes = input(prompt)\n",
        "\n",
        "print(f\"Where do you live {user_name}?\")\n",
        "lives = input(prompt)\n",
        "\n",
        "print(\"What kind of computer do you have?\")\n",
        "computer = input(prompt)\n",
        "\n",
        "print(f\"\"\"\n",
        "      Alright, so you said {likes} about liking me.\n",
        "      You live in {lives}. Not sure where that is.\n",
        "      And you have a {computer} computer. Nice.\n",
        "\"\"\")"
      ],
      "metadata": {
        "id": "b9N0qcglDH4x"
      },
      "execution_count": null,
      "outputs": []
    },
    {
      "cell_type": "markdown",
      "source": [],
      "metadata": {
        "id": "8N5ABcOl_Chj"
      }
    },
    {
      "cell_type": "code",
      "execution_count": null,
      "metadata": {
        "colab": {
          "base_uri": "https://localhost:8080/"
        },
        "collapsed": true,
        "id": "94zxqg_9uuth",
        "outputId": "2592bc4a-c989-44b4-a934-30462bc5fa3b"
      },
      "outputs": [
        {
          "output_type": "stream",
          "name": "stdout",
          "text": [
            "Insira o primero valor de x: 52\n",
            "Insira o segundo valor de x: 2\n",
            "O primeiro ponto é 52 e 372.\n",
            "O segundo ponto é 2 e 22.\n"
          ]
        }
      ],
      "source": [
        "def reta(numero):\n",
        "    return (7* numero + 8)\n",
        "\n",
        "\n",
        "x1 = eval(input(\"Insira o primero valor de x: \"))\n",
        "y1 = reta(x1)\n",
        "x2 = eval(input(\"Insira o segundo valor de x: \"))\n",
        "y2 = reta(x2)\n",
        "\n",
        "print(f\"O primeiro ponto é {x1} e {y1}.\")\n",
        "print(f\"O segundo ponto é {x2} e {y2}.\")"
      ]
    },
    {
      "cell_type": "code",
      "source": [
        "def reta(numero):\n",
        "    return (7* numero + 8)\n",
        "\n",
        "def imprimir(n1, n2):\n",
        "    print(f\"Os pontos são: {n1}, {n2}\")\n",
        "\n",
        "\n",
        "x1 = eval(input(\"Insira o primero valor de x: \"))\n",
        "y1 = reta(x1)\n",
        "x2 = eval(input(\"Insira o segundo valor de x: \"))\n",
        "y2 = reta(x2)\n",
        "\n",
        "imprimir5(x1, y1)\n",
        "imprimir(x2,y2)"
      ],
      "metadata": {
        "colab": {
          "base_uri": "https://localhost:8080/"
        },
        "collapsed": true,
        "id": "c2A8Ab2_v65W",
        "outputId": "34301477-232b-4705-fb1e-11422f1a2558"
      },
      "execution_count": null,
      "outputs": [
        {
          "output_type": "stream",
          "name": "stdout",
          "text": [
            "Insira o primero valor de x: 2\n",
            "Insira o segundo valor de x: 5\n",
            "Os pontos são: 2, 22\n",
            "Os pontos são: 5, 43\n"
          ]
        }
      ]
    }
  ]
}