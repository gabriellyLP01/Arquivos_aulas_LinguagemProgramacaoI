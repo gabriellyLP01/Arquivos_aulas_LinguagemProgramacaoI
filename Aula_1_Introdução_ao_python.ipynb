{
  "nbformat": 4,
  "nbformat_minor": 0,
  "metadata": {
    "colab": {
      "provenance": [],
      "toc_visible": true,
      "authorship_tag": "ABX9TyO4DzQ3k9M3CJt8aP1gPywQ",
      "include_colab_link": true
    },
    "kernelspec": {
      "name": "python3",
      "display_name": "Python 3"
    },
    "language_info": {
      "name": "python"
    }
  },
  "cells": [
    {
      "cell_type": "markdown",
      "metadata": {
        "id": "view-in-github",
        "colab_type": "text"
      },
      "source": [
        "<a href=\"https://colab.research.google.com/github/gabriellyLP01/Arquivos_aulas_LinguagemProgramacaoI/blob/main/Aula_1_Introdu%C3%A7%C3%A3o_ao_python.ipynb\" target=\"_parent\"><img src=\"https://colab.research.google.com/assets/colab-badge.svg\" alt=\"Open In Colab\"/></a>"
      ]
    },
    {
      "cell_type": "markdown",
      "source": [
        "#Aula 01 - **Primeiros passos com python**\n",
        "\n",
        "Vamos realizar os primeiros códigos com a linguaguem Python para observar o funcionamento das etapas:\n",
        "1. Entrada\n",
        "2. Processamento\n",
        "3. Saída\n",
        "4.Comentários"
      ],
      "metadata": {
        "id": "rKB45lnZxoWD"
      }
    },
    {
      "cell_type": "markdown",
      "source": [
        "##Exercício 1 - Um bom programa inicial##\n",
        "O primeiro passo para usar linhas de código em alguma linguagem (saída de dados)"
      ],
      "metadata": {
        "id": "z4y-SeYJ2THm"
      }
    },
    {
      "cell_type": "code",
      "execution_count": null,
      "metadata": {
        "colab": {
          "base_uri": "https://localhost:8080/"
        },
        "id": "AD1g2X-cwtRp",
        "outputId": "08e54448-ee47-4d4e-945c-44ecee8be855"
      },
      "outputs": [
        {
          "output_type": "stream",
          "name": "stdout",
          "text": [
            "Hello world\n",
            "Hello again\n",
            "I like typing this.\n",
            "Yay! Printing\n",
            "I'd much rather you not.\n",
            "I said do not touch this\n"
          ]
        }
      ],
      "source": [
        "print(\"Hello world\")\n",
        "print(\"Hello again\")\n",
        "\n",
        "print(\"I like typing this.\")\n",
        "print(\"Yay! Printing\")\n",
        "\n",
        "print(\"I'd much rather you not.\")\n",
        "print(\"I said do not touch this\")"
      ]
    },
    {
      "cell_type": "markdown",
      "source": [
        "## Exercício 2 - Comentáios e Cerquilhas"
      ],
      "metadata": {
        "id": "Lbv-3R4f3ljV"
      }
    },
    {
      "cell_type": "markdown",
      "source": [
        "Compreender o uso de comentários para minhas linhas de códigos;"
      ],
      "metadata": {
        "id": "hLFAlzXvxm3C"
      }
    },
    {
      "cell_type": "code",
      "source": [
        "#Um comentário, assim você pode ler seu programa mais tarde.\n",
        "#Qualquer coisa depois de # é ignorada pelo Python\n",
        "\n",
        "print(\"I could have code like this.\") #e o comentário depois ignorado\n",
        "\n",
        "#Você também pode usar um comentário para desabilitar um código:\n",
        "#print(\"This won't run.\")\n",
        "\n",
        "print(\"This will run.\")"
      ],
      "metadata": {
        "colab": {
          "base_uri": "https://localhost:8080/"
        },
        "id": "EgZ_8eWB6TtZ",
        "outputId": "fb31664a-403d-45b8-ae8e-8898f2debd5c"
      },
      "execution_count": null,
      "outputs": [
        {
          "output_type": "stream",
          "name": "stdout",
          "text": [
            "I could have code like this.\n",
            "This will run.\n"
          ]
        }
      ]
    },
    {
      "cell_type": "markdown",
      "source": [
        "##Exercício 3 - Números e Matemática"
      ],
      "metadata": {
        "id": "giVbpwz58W7k"
      }
    },
    {
      "cell_type": "markdown",
      "source": [
        "Primeiras operações matemáticas, dentro da instrução de saída de dados;"
      ],
      "metadata": {
        "id": "xsM3D57m8gAo"
      }
    },
    {
      "cell_type": "code",
      "source": [
        "#Inicia com um texto sobre o que será feito no resto do programa\n",
        "print(\"I will now count my chickens:\")\n",
        "#Irá concatenar o texto entre aspas com o resultado das operações após as vírgulas\n",
        "print(\"Hens\", 25 + 30 / 6)\n",
        "print(\"Roosters\", 100 - 25 * 3 % 4 )\n",
        "#Inicia com um texto sobre o que será feito no resto do programa\n",
        "print(\"Now I will count the eggs:\")\n",
        "#Irá realizar a operação matemática\n",
        "print(3 + 2 + 1 - 5 + 4 % 2 - 1 / 4 + 6)\n",
        "#Inicia com um texto sobre o que sera feito no resto do programa\n",
        "print(\"It is true that 3 + 2 < 5 - 7?\")\n",
        "#Realizar uma operação relacionando em que o resultado é booleano\n",
        "print(3 + 2 < 5 - 7)\n",
        "#Inicia com um texto sobre o que será feito no resto do programa\n",
        "print(\"Whats is 3 + 2?\", 3 + 2)\n",
        "print(\"Whats is 5 -7?\", 5 - 7)\n",
        "#Inicia com um texto sobre o que será feito no resto do programa\n",
        "print(\"Oh, that's why it's false.\")\n",
        "#Inicia com um texto sobre o que será feito no resto do programa\n",
        "print(\"How about some more.\")\n",
        "#texto com operações relacionais\n",
        "print(\"Is it greater?\", 5 <= -2)\n",
        "print(\"Is it greater or equal?\", 5>= -2)\n",
        "print(\"Is it less or equal?\", 5 <= -2)"
      ],
      "metadata": {
        "colab": {
          "base_uri": "https://localhost:8080/"
        },
        "id": "F4JOd3vz8sy4",
        "outputId": "66fcb6b6-3136-4df7-c9aa-ef6d7958cf14"
      },
      "execution_count": null,
      "outputs": [
        {
          "output_type": "stream",
          "name": "stdout",
          "text": [
            "I will now count my chickens:\n",
            "Hens 30.0\n",
            "Roosters 97\n",
            "Now I will count the eggs:\n",
            "6.75\n",
            "It is true that 3 + 2 < 5 - 7?\n",
            "False\n",
            "Whats is 3 + 2? 5\n",
            "Whats is 5 -7? -2\n",
            "Oh, that's why it's false.\n",
            "How about some more.\n",
            "Is it greater? False\n",
            "Is it greater or equal? True\n",
            "Is it less or equal? False\n"
          ]
        }
      ]
    },
    {
      "cell_type": "markdown",
      "source": [
        "##Exercício 4 - Variáveis e Nomes"
      ],
      "metadata": {
        "id": "FHonSy47AhcN"
      }
    },
    {
      "cell_type": "markdown",
      "source": [
        "Como declarar variáveis e seus rótulos;"
      ],
      "metadata": {
        "id": "x_C0THR7BEaA"
      }
    },
    {
      "cell_type": "code",
      "source": [
        "cars = 100 #atribuindo um número inteiro\n",
        "spaceInACar = 4.0 #atribuindo um número real\n",
        "drivers = 30 #atribuindo um número inteiro\n",
        "passengers = 90 #atribuindo um número inteiro\n",
        "carsNotDriven = cars - drivers #operação aritmética entre inteiro e inteiro\n",
        "carsDriven = drivers #atribuição de valor entre variáveis sem operação\n",
        "carpoolCapacity = carsDriven * spaceInACar #atribuindo o resultado de uma operação aritmética entre inteiro e real\n",
        "averagePassengersPerCar = passengers/carsDriven #atribuindo o resultado de uma operação aritmética entre inteiro e inteiro\n",
        "\n",
        "print(\"There are\", cars, \"cars available\")\n",
        "print(\"There are only\", drivers, \"drivers available\")\n",
        "print(\"There will be\", carsNotDriven, \"empty cars today\")\n",
        "print(\"We can transport\", carpoolCapacity, \"people today.\")\n",
        "print(\"We have\", passengers, \"to carpool today.\")\n",
        "print(\"We need to put about\", averagePassengersPerCar, \"in each car.\")\n",
        "(10/5)"
      ],
      "metadata": {
        "colab": {
          "base_uri": "https://localhost:8080/"
        },
        "id": "qTsw96NuBMDM",
        "outputId": "a01b7f55-7787-45ab-f108-090fb7a47589"
      },
      "execution_count": 4,
      "outputs": [
        {
          "output_type": "stream",
          "name": "stdout",
          "text": [
            "There are 100 cars available\n",
            "There are only 30 drivers available\n",
            "There will be 70 empty cars today\n",
            "We can transport 120.0 people today.\n",
            "We have 90 to carpool today.\n",
            "We need to put about 3.0 in each car.\n"
          ]
        },
        {
          "output_type": "execute_result",
          "data": {
            "text/plain": [
              "2.0"
            ]
          },
          "metadata": {},
          "execution_count": 4
        }
      ]
    }
  ]
}